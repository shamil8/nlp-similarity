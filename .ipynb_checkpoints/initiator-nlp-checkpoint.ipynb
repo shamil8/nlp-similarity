{
 "cells": [
  {
   "cell_type": "code",
   "execution_count": 1,
   "metadata": {},
   "outputs": [],
   "source": [
    "from gensim.models import KeyedVectors\n",
    "import nltk"
   ]
  },
  {
   "cell_type": "code",
   "execution_count": 2,
   "metadata": {},
   "outputs": [],
   "source": [
    "# Model with tags\n",
    "# Russian National Corpus and Russian Wikipedia dump of December 2018\n",
    "rncAndWikiWV = KeyedVectors.load(\"./initiator-models/rnc-and-wiki.wordvectors\")"
   ]
  },
  {
   "cell_type": "code",
   "execution_count": 3,
   "metadata": {},
   "outputs": [],
   "source": [
    "# Model without tags\n",
    "# Initiator texts of task\n",
    "initiatorWV = KeyedVectors.load(\"./initiator-models/initiator-word2vec.wordvectors\")"
   ]
  },
  {
   "cell_type": "code",
   "execution_count": 4,
   "metadata": {},
   "outputs": [
    {
     "data": {
      "text/plain": [
       "True"
      ]
     },
     "execution_count": 4,
     "metadata": {},
     "output_type": "execute_result"
    }
   ],
   "source": [
    "nltk.tagset_mapping('ru-rnc', 'universal') == {'!': '.', 'A': 'ADJ', 'C': 'CONJ', 'AD': 'ADV', 'NN': 'NOUN', 'VG': 'VERB', 'COMP': 'CONJ', 'NC': 'NUM', 'VP': 'VERB', 'P': 'ADP', 'IJ': 'X', 'V': 'VERB', 'Z': 'X', 'VI': 'VERB', 'YES_NO_SENT': 'X', 'PTCL': 'PRT'}"
   ]
  },
  {
   "cell_type": "code",
   "execution_count": 5,
   "metadata": {},
   "outputs": [],
   "source": [
    "words = nltk.word_tokenize('пересчитать расход')"
   ]
  },
  {
   "cell_type": "code",
   "execution_count": 6,
   "metadata": {},
   "outputs": [],
   "source": [
    "wordsWithTag = []\n",
    "\n",
    "for word in words:\n",
    "    wordWithTag = nltk.pos_tag([word], tagset='universal', lang='rus')[0]\n",
    "    wordsWithTag.append(wordWithTag[0] + '_' + wordWithTag[1])"
   ]
  },
  {
   "cell_type": "code",
   "execution_count": 7,
   "metadata": {},
   "outputs": [],
   "source": [
    "def getMostSimilar(text, pv = 0.5):\n",
    "    return [(word[0][0:word[0].find('_')]) for word in rncAndWikiWV.most_similar(text) if word[1] >= pv]"
   ]
  },
  {
   "cell_type": "code",
   "execution_count": 8,
   "metadata": {},
   "outputs": [],
   "source": [
    "result = getMostSimilar(wordsWithTag)"
   ]
  },
  {
   "cell_type": "code",
   "execution_count": 9,
   "metadata": {},
   "outputs": [
    {
     "data": {
      "text/plain": [
       "['затрата',\n",
       " 'издержка',\n",
       " 'трата',\n",
       " 'пересчитывать',\n",
       " 'сумма',\n",
       " 'смета',\n",
       " 'деньги',\n",
       " 'стоимость',\n",
       " 'потребленный',\n",
       " 'непроцентный']"
      ]
     },
     "execution_count": 9,
     "metadata": {},
     "output_type": "execute_result"
    }
   ],
   "source": [
    "result"
   ]
  },
  {
   "cell_type": "code",
   "execution_count": 10,
   "metadata": {},
   "outputs": [],
   "source": [
    "# check each word and find most similarity\n",
    "for word in wordsWithTag:\n",
    "    [result.append(text) for text in getMostSimilar(word) if text not in result]"
   ]
  },
  {
   "cell_type": "code",
   "execution_count": 11,
   "metadata": {},
   "outputs": [
    {
     "data": {
      "text/plain": [
       "['затрата',\n",
       " 'издержка',\n",
       " 'трата',\n",
       " 'пересчитывать',\n",
       " 'сумма',\n",
       " 'смета',\n",
       " 'деньги',\n",
       " 'стоимость',\n",
       " 'потребленный',\n",
       " 'непроцентный',\n",
       " 'сосчитать',\n",
       " 'бюджет',\n",
       " 'ассигнование',\n",
       " 'доход',\n",
       " 'себестоимость',\n",
       " 'расходный']"
      ]
     },
     "execution_count": 11,
     "metadata": {},
     "output_type": "execute_result"
    }
   ],
   "source": [
    "result"
   ]
  },
  {
   "cell_type": "code",
   "execution_count": 12,
   "metadata": {},
   "outputs": [
    {
     "data": {
      "text/plain": [
       "[('авк', 0.9816160202026367),\n",
       " ('вентшахты', 0.9801523089408875),\n",
       " ('конвектор', 0.9799370765686035),\n",
       " ('nvd', 0.9795823693275452),\n",
       " ('расчётный', 0.9793539643287659),\n",
       " ('vдобора', 0.9787059426307678),\n",
       " ('арене', 0.9782119989395142),\n",
       " ('месторасположение', 0.9765300154685974),\n",
       " ('удельного', 0.9762309789657593),\n",
       " ('пожароопасности', 0.9757450819015503)]"
      ]
     },
     "execution_count": 12,
     "metadata": {},
     "output_type": "execute_result"
    }
   ],
   "source": [
    "# Try to find most similarity words in initiator-model\n",
    "\n",
    "initiatorWV.most_similar(words)"
   ]
  },
  {
   "cell_type": "code",
   "execution_count": 13,
   "metadata": {},
   "outputs": [
    {
     "data": {
      "text/plain": [
       "['пересчитать', 'расход']"
      ]
     },
     "execution_count": 13,
     "metadata": {},
     "output_type": "execute_result"
    }
   ],
   "source": [
    "# TODO:: NEED TO ADD initiator-model in rnc-wiki-model!!!\n",
    "words"
   ]
  },
  {
   "cell_type": "code",
   "execution_count": null,
   "metadata": {},
   "outputs": [],
   "source": []
  }
 ],
 "metadata": {
  "kernelspec": {
   "display_name": "Python 3",
   "language": "python",
   "name": "python3"
  },
  "language_info": {
   "codemirror_mode": {
    "name": "ipython",
    "version": 3
   },
   "file_extension": ".py",
   "mimetype": "text/x-python",
   "name": "python",
   "nbconvert_exporter": "python",
   "pygments_lexer": "ipython3",
   "version": "3.8.5"
  }
 },
 "nbformat": 4,
 "nbformat_minor": 4
}
