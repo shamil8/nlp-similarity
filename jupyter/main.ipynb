{
 "cells": [
  {
   "cell_type": "code",
   "execution_count": 1,
   "metadata": {},
   "outputs": [],
   "source": [
    "import pandas as pd"
   ]
  },
  {
   "cell_type": "code",
   "execution_count": 2,
   "metadata": {},
   "outputs": [],
   "source": [
    "df = pd.read_csv('../data/tasks-from-mover.csv')"
   ]
  },
  {
   "cell_type": "code",
   "execution_count": 3,
   "metadata": {},
   "outputs": [],
   "source": [
    "user_id = '2be0ccf2-3608-11ea-9dc1-0242c0a85009'\n",
    "nlp_words = [\n",
    "    \"узлы\",\n",
    "]"
   ]
  },
  {
   "cell_type": "code",
   "execution_count": 4,
   "metadata": {},
   "outputs": [
    {
     "data": {
      "text/html": [
       "<div>\n",
       "<style scoped>\n",
       "    .dataframe tbody tr th:only-of-type {\n",
       "        vertical-align: middle;\n",
       "    }\n",
       "\n",
       "    .dataframe tbody tr th {\n",
       "        vertical-align: top;\n",
       "    }\n",
       "\n",
       "    .dataframe thead th {\n",
       "        text-align: right;\n",
       "    }\n",
       "</style>\n",
       "<table border=\"1\" class=\"dataframe\">\n",
       "  <thead>\n",
       "    <tr style=\"text-align: right;\">\n",
       "      <th></th>\n",
       "      <th>d</th>\n",
       "      <th>name</th>\n",
       "      <th>times</th>\n",
       "      <th>owner_id</th>\n",
       "    </tr>\n",
       "  </thead>\n",
       "  <tbody>\n",
       "    <tr>\n",
       "      <th>0</th>\n",
       "      <td>00014a82-970c-11e9-865b-0242ac130007</td>\n",
       "      <td>Оформление ПП на отм. +18,250. Блок 1, 2</td>\n",
       "      <td>14400</td>\n",
       "      <td>NaN</td>\n",
       "    </tr>\n",
       "    <tr>\n",
       "      <th>1</th>\n",
       "      <td>0001c00a-07cb-11eb-b5eb-0242c0a87005</td>\n",
       "      <td>Секции 6,7. Гидравлический расчет</td>\n",
       "      <td>205200</td>\n",
       "      <td>2be0ccf2-3608-11ea-9dc1-0242c0a85009</td>\n",
       "    </tr>\n",
       "    <tr>\n",
       "      <th>2</th>\n",
       "      <td>000235a6-7eee-11ea-acd4-0242c0a87005</td>\n",
       "      <td>Составление эскиза ТЗ на Инженерно-Геологическ...</td>\n",
       "      <td>86400</td>\n",
       "      <td>NaN</td>\n",
       "    </tr>\n",
       "    <tr>\n",
       "      <th>3</th>\n",
       "      <td>000a739d-2919-4f85-8775-506041deebac</td>\n",
       "      <td>Формирование ведомости монтажной пены</td>\n",
       "      <td>86400</td>\n",
       "      <td>NaN</td>\n",
       "    </tr>\n",
       "    <tr>\n",
       "      <th>4</th>\n",
       "      <td>000b41b7-6a4f-11ea-acd4-0242c0a87005</td>\n",
       "      <td>Расстановка НО и компенсаторов 1 блока</td>\n",
       "      <td>32400</td>\n",
       "      <td>NaN</td>\n",
       "    </tr>\n",
       "    <tr>\n",
       "      <th>5</th>\n",
       "      <td>00130f74-f335-11ea-a22c-0242c0a87005</td>\n",
       "      <td>Формирование РПЗ</td>\n",
       "      <td>205200</td>\n",
       "      <td>217</td>\n",
       "    </tr>\n",
       "    <tr>\n",
       "      <th>6</th>\n",
       "      <td>0013de98-8a97-11ea-acd4-0242c0a87005</td>\n",
       "      <td>Исправление коллизий</td>\n",
       "      <td>2419200</td>\n",
       "      <td>NaN</td>\n",
       "    </tr>\n",
       "    <tr>\n",
       "      <th>7</th>\n",
       "      <td>00153461-6251-11e8-8633-0242ac130004</td>\n",
       "      <td>Моделирование и расчёт системы отопления</td>\n",
       "      <td>6220800</td>\n",
       "      <td>NaN</td>\n",
       "    </tr>\n",
       "    <tr>\n",
       "      <th>8</th>\n",
       "      <td>0016de40-05a8-11e9-8b7e-0242ac130005</td>\n",
       "      <td>Узлы и фрагменты по кровле</td>\n",
       "      <td>432000</td>\n",
       "      <td>NaN</td>\n",
       "    </tr>\n",
       "    <tr>\n",
       "      <th>9</th>\n",
       "      <td>0019e0a0-ed2a-4494-931a-994b0fe35250</td>\n",
       "      <td>Проверка/сборка альбома</td>\n",
       "      <td>86400</td>\n",
       "      <td>NaN</td>\n",
       "    </tr>\n",
       "  </tbody>\n",
       "</table>\n",
       "</div>"
      ],
      "text/plain": [
       "                                      d  \\\n",
       "0  00014a82-970c-11e9-865b-0242ac130007   \n",
       "1  0001c00a-07cb-11eb-b5eb-0242c0a87005   \n",
       "2  000235a6-7eee-11ea-acd4-0242c0a87005   \n",
       "3  000a739d-2919-4f85-8775-506041deebac   \n",
       "4  000b41b7-6a4f-11ea-acd4-0242c0a87005   \n",
       "5  00130f74-f335-11ea-a22c-0242c0a87005   \n",
       "6  0013de98-8a97-11ea-acd4-0242c0a87005   \n",
       "7  00153461-6251-11e8-8633-0242ac130004   \n",
       "8  0016de40-05a8-11e9-8b7e-0242ac130005   \n",
       "9  0019e0a0-ed2a-4494-931a-994b0fe35250   \n",
       "\n",
       "                                                name    times  \\\n",
       "0           Оформление ПП на отм. +18,250. Блок 1, 2    14400   \n",
       "1                  Секции 6,7. Гидравлический расчет   205200   \n",
       "2  Составление эскиза ТЗ на Инженерно-Геологическ...    86400   \n",
       "3              Формирование ведомости монтажной пены    86400   \n",
       "4             Расстановка НО и компенсаторов 1 блока    32400   \n",
       "5                                   Формирование РПЗ   205200   \n",
       "6                               Исправление коллизий  2419200   \n",
       "7           Моделирование и расчёт системы отопления  6220800   \n",
       "8                         Узлы и фрагменты по кровле   432000   \n",
       "9                            Проверка/сборка альбома    86400   \n",
       "\n",
       "                               owner_id  \n",
       "0                                   NaN  \n",
       "1  2be0ccf2-3608-11ea-9dc1-0242c0a85009  \n",
       "2                                   NaN  \n",
       "3                                   NaN  \n",
       "4                                   NaN  \n",
       "5                                   217  \n",
       "6                                   NaN  \n",
       "7                                   NaN  \n",
       "8                                   NaN  \n",
       "9                                   NaN  "
      ]
     },
     "execution_count": 4,
     "metadata": {},
     "output_type": "execute_result"
    }
   ],
   "source": [
    "df.head(10)"
   ]
  },
  {
   "cell_type": "code",
   "execution_count": 5,
   "metadata": {},
   "outputs": [],
   "source": [
    "# only once!\n",
    "titles = df['name'].str.lower()"
   ]
  },
  {
   "cell_type": "code",
   "execution_count": 6,
   "metadata": {},
   "outputs": [
    {
     "data": {
      "text/plain": [
       "0                 оформление пп на отм. +18,250. блок 1, 2\n",
       "1                        секции 6,7. гидравлический расчет\n",
       "2        составление эскиза тз на инженерно-геологическ...\n",
       "3                    формирование ведомости монтажной пены\n",
       "4                   расстановка но и компенсаторов 1 блока\n",
       "                               ...                        \n",
       "63316                                               разрез\n",
       "63317                                моделирование 3 этажа\n",
       "63318                          устранение пересечек 11.1.2\n",
       "63319                    формирование спецификации проемов\n",
       "63320                     моделирование потолков в подвале\n",
       "Name: name, Length: 63321, dtype: object"
      ]
     },
     "execution_count": 6,
     "metadata": {},
     "output_type": "execute_result"
    }
   ],
   "source": [
    "titles"
   ]
  },
  {
   "cell_type": "code",
   "execution_count": 7,
   "metadata": {},
   "outputs": [],
   "source": [
    "tasks = []\n",
    "tmp = []"
   ]
  },
  {
   "cell_type": "code",
   "execution_count": 8,
   "metadata": {},
   "outputs": [],
   "source": [
    "    for idx, words in enumerate(titles):\n",
    "        for word in str(words).split():\n",
    "            if word in nlp_words:\n",
    "                if idx in tmp:\n",
    "                    for task_idx, [index, _] in enumerate(tasks):\n",
    "                        if index == idx:\n",
    "                            tasks[task_idx][1] += 1  # [task_idx][1] - it's a rating!\n",
    "                else:\n",
    "                    tmp.append(idx)\n",
    "                    tasks.append([idx, 1])"
   ]
  },
  {
   "cell_type": "code",
   "execution_count": 11,
   "metadata": {},
   "outputs": [
    {
     "data": {
      "text/plain": [
       "[[24, 1], [267, 1], [423, 1], [511, 1]]"
      ]
     },
     "execution_count": 11,
     "metadata": {},
     "output_type": "execute_result"
    }
   ],
   "source": [
    "tasks[1:5]"
   ]
  },
  {
   "cell_type": "code",
   "execution_count": 12,
   "metadata": {},
   "outputs": [],
   "source": [
    "data = []"
   ]
  },
  {
   "cell_type": "code",
   "execution_count": 13,
   "metadata": {},
   "outputs": [],
   "source": [
    "for idx, rating in tasks:\n",
    "    owner_id, times = df.loc[idx, ['owner_id', 'times']]\n",
    "    # space for adding params\n",
    "    if owner_id == user_id:\n",
    "        rating += 2\n",
    "    \n",
    "    # END space for adding params\n",
    "    \n",
    "    data.append([rating, times])"
   ]
  },
  {
   "cell_type": "code",
   "execution_count": 14,
   "metadata": {},
   "outputs": [
    {
     "data": {
      "text/plain": [
       "[[1, 61200], [1, 18000], [1, 14400], [1, 90000]]"
      ]
     },
     "execution_count": 14,
     "metadata": {},
     "output_type": "execute_result"
    }
   ],
   "source": [
    "data[1:5]"
   ]
  },
  {
   "cell_type": "code",
   "execution_count": null,
   "metadata": {},
   "outputs": [],
   "source": []
  }
 ],
 "metadata": {
  "kernelspec": {
   "display_name": "Python 3",
   "language": "python",
   "name": "python3"
  },
  "language_info": {
   "codemirror_mode": {
    "name": "ipython",
    "version": 3
   },
   "file_extension": ".py",
   "mimetype": "text/x-python",
   "name": "python",
   "nbconvert_exporter": "python",
   "pygments_lexer": "ipython3",
   "version": "3.8.5"
  }
 },
 "nbformat": 4,
 "nbformat_minor": 4
}
